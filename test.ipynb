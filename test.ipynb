{
 "cells": [
  {
   "cell_type": "code",
   "execution_count": 2,
   "metadata": {},
   "outputs": [],
   "source": [
    "########################################################### 0\n",
    "\n",
    "input_file = \"Recording.wav\"\n",
    "\n",
    "# user defined\n",
    "output_vad_file = \"frame_vad_outputs/manifest_vad_output.json\"\n",
    "manifest_name = 'manifest.json'\n",
    "vad_folder = \"VAD_wavs\"\n",
    "\n",
    "from pathlib import Path\n",
    "input_file_path = Path(input_file)\n",
    "prep_file = str(f\"{input_file_path.stem}_preprocessed{input_file_path.suffix}\")"
   ]
  },
  {
   "cell_type": "markdown",
   "metadata": {},
   "source": [
    "Конвертация вавок в нужный формат - 16000 Гц sample rate, Mono channel. На выходе имеем преобразованные вавки"
   ]
  },
  {
   "cell_type": "code",
   "execution_count": 3,
   "metadata": {},
   "outputs": [
    {
     "name": "stderr",
     "output_type": "stream",
     "text": [
      "ffmpeg version 4.4.2-0ubuntu0.22.04.1 Copyright (c) 2000-2021 the FFmpeg developers\n",
      "  built with gcc 11 (Ubuntu 11.2.0-19ubuntu1)\n",
      "  configuration: --prefix=/usr --extra-version=0ubuntu0.22.04.1 --toolchain=hardened --libdir=/usr/lib/x86_64-linux-gnu --incdir=/usr/include/x86_64-linux-gnu --arch=amd64 --enable-gpl --disable-stripping --enable-gnutls --enable-ladspa --enable-libaom --enable-libass --enable-libbluray --enable-libbs2b --enable-libcaca --enable-libcdio --enable-libcodec2 --enable-libdav1d --enable-libflite --enable-libfontconfig --enable-libfreetype --enable-libfribidi --enable-libgme --enable-libgsm --enable-libjack --enable-libmp3lame --enable-libmysofa --enable-libopenjpeg --enable-libopenmpt --enable-libopus --enable-libpulse --enable-librabbitmq --enable-librubberband --enable-libshine --enable-libsnappy --enable-libsoxr --enable-libspeex --enable-libsrt --enable-libssh --enable-libtheora --enable-libtwolame --enable-libvidstab --enable-libvorbis --enable-libvpx --enable-libwebp --enable-libx265 --enable-libxml2 --enable-libxvid --enable-libzimg --enable-libzmq --enable-libzvbi --enable-lv2 --enable-omx --enable-openal --enable-opencl --enable-opengl --enable-sdl2 --enable-pocketsphinx --enable-librsvg --enable-libmfx --enable-libdc1394 --enable-libdrm --enable-libiec61883 --enable-chromaprint --enable-frei0r --enable-libx264 --enable-shared\n",
      "  libavutil      56. 70.100 / 56. 70.100\n",
      "  libavcodec     58.134.100 / 58.134.100\n",
      "  libavformat    58. 76.100 / 58. 76.100\n",
      "  libavdevice    58. 13.100 / 58. 13.100\n",
      "  libavfilter     7.110.100 /  7.110.100\n",
      "  libswscale      5.  9.100 /  5.  9.100\n",
      "  libswresample   3.  9.100 /  3.  9.100\n",
      "  libpostproc    55.  9.100 / 55.  9.100\n",
      "Guessed Channel Layout for Input Stream #0.0 : stereo\n",
      "Input #0, wav, from 'Recording.wav':\n",
      "  Duration: 00:00:14.25, bitrate: 1536 kb/s\n",
      "  Stream #0:0: Audio: pcm_s16le ([1][0][0][0] / 0x0001), 48000 Hz, stereo, s16, 1536 kb/s\n",
      "Stream mapping:\n",
      "  Stream #0:0 -> #0:0 (pcm_s16le (native) -> pcm_s16le (native))\n",
      "Press [q] to stop, [?] for help\n",
      "Output #0, wav, to 'Recording_preprocessed.wav':\n",
      "  Metadata:\n",
      "    ISFT            : Lavf58.76.100\n",
      "  Stream #0:0: Audio: pcm_s16le ([1][0][0][0] / 0x0001), 16000 Hz, mono, s16, 256 kb/s\n",
      "    Metadata:\n",
      "      encoder         : Lavc58.134.100 pcm_s16le\n",
      "size=     445kB time=00:00:14.25 bitrate= 256.1kbits/s speed= 870x    \n",
      "video:0kB audio:445kB subtitle:0kB other streams:0kB global headers:0kB muxing overhead: 0.017101%\n"
     ]
    },
    {
     "data": {
      "text/plain": [
       "(None, None)"
      ]
     },
     "execution_count": 3,
     "metadata": {},
     "output_type": "execute_result"
    }
   ],
   "source": [
    "########################################################### 1\n",
    "import ffmpeg\n",
    "\n",
    "audio_input = ffmpeg.input(input_file)\n",
    "audio_output = ffmpeg.output(audio_input, prep_file, format='wav', ar=16000, ac=1)\n",
    "ffmpeg.run(audio_output)"
   ]
  },
  {
   "cell_type": "markdown",
   "metadata": {},
   "source": [
    "Создание манифеста, по которому работает ВАД. На выходе имеем файл манифеста:"
   ]
  },
  {
   "cell_type": "code",
   "execution_count": 4,
   "metadata": {},
   "outputs": [],
   "source": [
    "########################################################### 2\n",
    "manifest = {\n",
    "    \"audio_filepath\": prep_file,\n",
    "    \"offset\": 0,\n",
    "    \"duration\": None\n",
    "}\n",
    "\n",
    "import json\n",
    "with open(manifest_name, \"w+\") as user_file:\n",
    "    json.dump(manifest, user_file)"
   ]
  },
  {
   "cell_type": "markdown",
   "metadata": {},
   "source": [
    "Используя файл манифесра, делаем VAD. Получаем файл vad_out.json:"
   ]
  },
  {
   "cell_type": "code",
   "execution_count": 5,
   "metadata": {},
   "outputs": [
    {
     "name": "stderr",
     "output_type": "stream",
     "text": [
      "[NeMo W 2023-10-03 15:31:07 nemo_logging:349] /tmp/ipykernel_25596/161577061.py:5: UserWarning: \n",
      "    The version_base parameter is not specified.\n",
      "    Please specify a compatability version level, or None.\n",
      "    Will assume defaults for version 1.1\n",
      "      initialize(config_path=\".\", job_name=\"test_app\")\n",
      "    \n"
     ]
    },
    {
     "name": "stdout",
     "output_type": "stream",
     "text": [
      "[NeMo I 2023-10-03 15:31:07 frame_vad_infer:76] Loading manifest file manifest.json\n",
      "[NeMo I 2023-10-03 15:31:07 frame_vad_infer:82] Split long audio file to avoid CUDA memory issue\n"
     ]
    },
    {
     "name": "stderr",
     "output_type": "stream",
     "text": [
      "splitting manifest:   0%|          | 0/1 [00:00<?, ?it/s]"
     ]
    }
   ],
   "source": [
    "########################################################### 3\n",
    "from src.nemo.frame_vad_infer import main as vad\n",
    "from hydra import compose, initialize\n",
    "\n",
    "initialize(config_path=\".\", job_name=\"test_app\")\n",
    "cfg = compose(config_name=\"frame_vad_infer_postprocess.yaml\", return_hydra_config=True, overrides=[f\"input_manifest={manifest_name}\", f\"dataset={manifest_name}\"])\n",
    "vad(cfg)"
   ]
  },
  {
   "cell_type": "markdown",
   "metadata": {},
   "source": [
    "Визуализируем это дело"
   ]
  },
  {
   "cell_type": "code",
   "execution_count": null,
   "metadata": {},
   "outputs": [
    {
     "name": "stdout",
     "output_type": "stream",
     "text": [
      "[NeMo I 2023-10-03 02:19:18 cloud:58] Found existing object /home/imeshcheryakov/.cache/torch/NeMo/NeMo_1.20.0/stt_enes_contextnet_large/bab2e1126d9c3eca50f26e03d9e8eb3b/stt_enes_contextnet_large.nemo.\n",
      "[NeMo I 2023-10-03 02:19:18 cloud:64] Re-using file from: /home/imeshcheryakov/.cache/torch/NeMo/NeMo_1.20.0/stt_enes_contextnet_large/bab2e1126d9c3eca50f26e03d9e8eb3b/stt_enes_contextnet_large.nemo\n",
      "[NeMo I 2023-10-03 02:19:18 common:913] Instantiating model from pre-trained checkpoint\n",
      "[NeMo I 2023-10-03 02:19:23 mixins:194] _setup_tokenizer: detected an aggregate tokenizer\n",
      "[NeMo I 2023-10-03 02:19:23 mixins:322] Tokenizer SentencePieceTokenizer initialized with 1024 tokens\n",
      "[NeMo I 2023-10-03 02:19:23 mixins:322] Tokenizer SentencePieceTokenizer initialized with 1024 tokens\n",
      "[NeMo I 2023-10-03 02:19:23 aggregate_tokenizer:72] Aggregate vocab size: 2048\n"
     ]
    },
    {
     "name": "stderr",
     "output_type": "stream",
     "text": [
      "[NeMo W 2023-10-03 02:19:25 modelPT:161] If you intend to do training or fine-tuning, please call the ModelPT.setup_training_data() method and provide a valid configuration file to setup the train data loader.\n",
      "    Train config : \n",
      "    manifest_filepath: /datatrain/tarred_audio_manifest.json\n",
      "    sample_rate: 16000\n",
      "    batch_size: 16\n",
      "    trim_silence: false\n",
      "    max_duration: 20\n",
      "    shuffle: true\n",
      "    is_tarred: true\n",
      "    tarred_audio_filepaths: /datatrain/audio__OP_0..511_CL_.tar\n",
      "    tarred_shard_strategy: scatter\n",
      "    use_start_end_token: false\n",
      "    num_workers: 8\n",
      "    pin_memory: true\n",
      "    \n",
      "[NeMo W 2023-10-03 02:19:25 modelPT:168] If you intend to do validation, please call the ModelPT.setup_validation_data() or ModelPT.setup_multiple_validation_data() method and provide a valid configuration file to setup the validation data loader(s). \n",
      "    Validation config : \n",
      "    manifest_filepath:\n",
      "    - /datadev/fisher/dev_fisher_mounted_files_manifest_es.json\n",
      "    - /datadev/mcv7/dev_mcv7_mounted_files_manifest_es.json\n",
      "    - /datadev/mls/dev_mls_mounted_files_manifest_es.json\n",
      "    - /datadev/voxpopuli/dev_voxpopuli_mounted_files_manifest_es.json\n",
      "    - /data/ls_dev_en/dev_clean_en.json\n",
      "    - /data/ls_dev_en/dev_other_en.json\n",
      "    sample_rate: 16000\n",
      "    batch_size: 512\n",
      "    shuffle: false\n",
      "    use_start_end_token: false\n",
      "    num_workers: 8\n",
      "    pin_memory: true\n",
      "    \n",
      "[NeMo W 2023-10-03 02:19:25 modelPT:174] Please call the ModelPT.setup_test_data() or ModelPT.setup_multiple_test_data() method and provide a valid configuration file to setup the test data loader(s).\n",
      "    Test config : \n",
      "    manifest_filepath: null\n",
      "    sample_rate: 16000\n",
      "    batch_size: 8\n",
      "    shuffle: false\n",
      "    use_start_end_token: false\n",
      "    num_workers: 16\n",
      "    pin_memory: true\n",
      "    \n"
     ]
    },
    {
     "name": "stdout",
     "output_type": "stream",
     "text": [
      "[NeMo I 2023-10-03 02:19:25 features:289] PADDING: 16\n"
     ]
    },
    {
     "name": "stderr",
     "output_type": "stream",
     "text": [
      "[NeMo W 2023-10-03 02:19:31 nemo_logging:349] /home/imeshcheryakov/anaconda3/envs/kvint/lib/python3.10/site-packages/torch/nn/modules/rnn.py:71: UserWarning: dropout option adds dropout after all but last recurrent layer, so non-zero dropout expects num_layers greater than 1, but got dropout=0.1 and num_layers=1\n",
      "      warnings.warn(\"dropout option adds dropout after all but last \"\n",
      "    \n"
     ]
    },
    {
     "name": "stdout",
     "output_type": "stream",
     "text": [
      "[NeMo I 2023-10-03 02:19:32 rnnt_models:211] Using RNNT Loss : warprnnt_numba\n",
      "    Loss warprnnt_numba_kwargs: {'fastemit_lambda': 0.001}\n",
      "[NeMo I 2023-10-03 02:19:33 save_restore_connector:249] Model EncDecRNNTBPEModel was successfully restored from /home/imeshcheryakov/.cache/torch/NeMo/NeMo_1.20.0/stt_enes_contextnet_large/bab2e1126d9c3eca50f26e03d9e8eb3b/stt_enes_contextnet_large.nemo.\n"
     ]
    },
    {
     "data": {
      "application/vnd.jupyter.widget-view+json": {
       "model_id": "fa908c63d1854e2ead497bafc2f5c5d8",
       "version_major": 2,
       "version_minor": 0
      },
      "text/plain": [
       "Transcribing:   0%|          | 0/2 [00:00<?, ?it/s]"
      ]
     },
     "metadata": {},
     "output_type": "display_data"
    },
    {
     "name": "stdout",
     "output_type": "stream",
     "text": [
      "[' this is the death aldure', ' one', ' do', ' free', \" i'm the best candidate you've ever seen\"]\n"
     ]
    },
    {
     "data": {
      "text/plain": [
       "<Figure size 1000x1000 with 0 Axes>"
      ]
     },
     "metadata": {},
     "output_type": "display_data"
    },
    {
     "data": {
      "image/png": "[encoded data removed]",
      "text/plain": [
       "<Figure size 1200x600 with 1 Axes>"
      ]
     },
     "metadata": {},
     "output_type": "display_data"
    }
   ],
   "source": [
    "########################################################### 4\n",
    "import numpy as np\n",
    "import matplotlib.pyplot as plt\n",
    "import librosa\n",
    "import soundfile as sf\n",
    "import os\n",
    "import json\n",
    "\n",
    "with open(output_vad_file, \"r\") as user_file:\n",
    "    vad_file = json.load(user_file)\n",
    "\n",
    "manifest = []\n",
    "with open(vad_file['rttm_filepath']) as f:\n",
    "    for line in f:\n",
    "        manifest.append(line)\n",
    "\n",
    "Path(vad_folder).exists()\n",
    "\n",
    "os.makedirs(vad_folder, exist_ok=True)\n",
    "\n",
    "data, sr = librosa.load(prep_file, sr=16000)\n",
    "\n",
    "labels = np.zeros(len(data))\n",
    "\n",
    "filelist = []\n",
    "for idx, interval in enumerate(manifest):\n",
    "    file = f'{vad_folder}/wav_{idx}.wav'\n",
    "    start = float(interval.split(\" \")[3])\n",
    "    end = float(interval.split(\" \")[3]) + float(interval.split(\" \")[4])\n",
    "    labels[int(sr * start) : int(sr * end)] = [1] * (int(sr * end) - int(sr * start))\n",
    "    sf.write(file, data[int(sr * start) : int(sr * end)], sr, 'PCM_24')\n",
    "    filelist.append(file)\n",
    "\n",
    "\n",
    "import nemo.collections.asr as nemo_asr\n",
    "asr_model = nemo_asr.models.EncDecRNNTBPEModel.from_pretrained(model_name=\"stt_enes_contextnet_large\")\n",
    "transcripts = asr_model.transcribe(paths2audio_files=filelist)[0]\n",
    "\n",
    "plt.figure(figsize=(10, 10))\n",
    "plt.subplots(1, 1, figsize=(12, 6))\n",
    "plt.plot(data / max(data), label=\"Signal\", color=\"b\")\n",
    "plt.plot(labels, label=\"LABELS\", color='r')\n",
    "plt.legend()\n",
    "plt.grid()\n",
    "\n",
    "print(transcripts)\n",
    "\n",
    "os.rmdir(Path(output_vad_file).parent)\n",
    "os.rmdir(vad_folder)"
   ]
  }
 ],
 "metadata": {
  "kernelspec": {
   "display_name": "kvint",
   "language": "python",
   "name": "python3"
  },
  "language_info": {
   "codemirror_mode": {
    "name": "ipython",
    "version": 3
   },
   "file_extension": ".py",
   "mimetype": "text/x-python",
   "name": "python",
   "nbconvert_exporter": "python",
   "pygments_lexer": "ipython3",
   "version": "3.10.13"
  },
  "orig_nbformat": 4
 },
 "nbformat": 4,
 "nbformat_minor": 2
}
